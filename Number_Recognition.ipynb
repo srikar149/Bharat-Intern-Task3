{
 "cells": [
  {
   "cell_type": "code",
   "execution_count": 1,
   "id": "63b38c89",
   "metadata": {},
   "outputs": [],
   "source": [
    "import tensorflow as tf\n",
    "from tensorflow.keras.datasets import mnist\n",
    "from tensorflow.keras.models import Sequential\n",
    "from tensorflow.keras.layers import Dense, Flatten"
   ]
  },
  {
   "cell_type": "code",
   "execution_count": 2,
   "id": "b18e431d",
   "metadata": {},
   "outputs": [
    {
     "name": "stdout",
     "output_type": "stream",
     "text": [
      "Downloading data from https://storage.googleapis.com/tensorflow/tf-keras-datasets/mnist.npz\n",
      "11490434/11490434 [==============================] - 4s 0us/step\n"
     ]
    }
   ],
   "source": [
    "(train_images, train_labels), (test_images, test_labels) = mnist.load_data()"
   ]
  },
  {
   "cell_type": "code",
   "execution_count": 3,
   "id": "e4ba81ab",
   "metadata": {},
   "outputs": [],
   "source": [
    "train_images = train_images / 255.0\n",
    "test_images = test_images / 255.0"
   ]
  },
  {
   "cell_type": "code",
   "execution_count": 4,
   "id": "fedb1ffd",
   "metadata": {},
   "outputs": [],
   "source": [
    "model = Sequential([\n",
    "    Flatten(input_shape=(28, 28)),\n",
    "    Dense(128, activation='relu'),\n",
    "    Dense(10, activation='softmax')\n",
    "])"
   ]
  },
  {
   "cell_type": "code",
   "execution_count": 5,
   "id": "0da1c2bc",
   "metadata": {},
   "outputs": [],
   "source": [
    "model.compile(optimizer='adam',\n",
    "              loss='sparse_categorical_crossentropy',\n",
    "              metrics=['accuracy'])"
   ]
  },
  {
   "cell_type": "code",
   "execution_count": 14,
   "id": "96982278",
   "metadata": {},
   "outputs": [
    {
     "name": "stdout",
     "output_type": "stream",
     "text": [
      "Epoch 1/30\n",
      "1875/1875 [==============================] - 3s 1ms/step - loss: 0.0031 - accuracy: 0.9989\n",
      "Epoch 2/30\n",
      "1875/1875 [==============================] - 3s 1ms/step - loss: 0.0036 - accuracy: 0.9988\n",
      "Epoch 3/30\n",
      "1875/1875 [==============================] - 3s 1ms/step - loss: 0.0035 - accuracy: 0.9987\n",
      "Epoch 4/30\n",
      "1875/1875 [==============================] - 3s 1ms/step - loss: 0.0028 - accuracy: 0.9991\n",
      "Epoch 5/30\n",
      "1875/1875 [==============================] - 2s 1ms/step - loss: 0.0038 - accuracy: 0.9987\n",
      "Epoch 6/30\n",
      "1875/1875 [==============================] - 2s 1ms/step - loss: 0.0028 - accuracy: 0.9992\n",
      "Epoch 7/30\n",
      "1875/1875 [==============================] - 3s 1ms/step - loss: 0.0018 - accuracy: 0.9994\n",
      "Epoch 8/30\n",
      "1875/1875 [==============================] - 3s 1ms/step - loss: 0.0024 - accuracy: 0.9993\n",
      "Epoch 9/30\n",
      "1875/1875 [==============================] - 3s 1ms/step - loss: 0.0031 - accuracy: 0.9992\n",
      "Epoch 10/30\n",
      "1875/1875 [==============================] - 3s 1ms/step - loss: 0.0039 - accuracy: 0.9985\n",
      "Epoch 11/30\n",
      "1875/1875 [==============================] - 3s 1ms/step - loss: 0.0014 - accuracy: 0.9996\n",
      "Epoch 12/30\n",
      "1875/1875 [==============================] - 2s 1ms/step - loss: 0.0024 - accuracy: 0.9992\n",
      "Epoch 13/30\n",
      "1875/1875 [==============================] - 2s 1ms/step - loss: 0.0016 - accuracy: 0.9994\n",
      "Epoch 14/30\n",
      "1875/1875 [==============================] - 2s 1ms/step - loss: 0.0051 - accuracy: 0.9982\n",
      "Epoch 15/30\n",
      "1875/1875 [==============================] - 3s 2ms/step - loss: 4.4280e-04 - accuracy: 0.9999\n",
      "Epoch 16/30\n",
      "1875/1875 [==============================] - 3s 1ms/step - loss: 1.8533e-04 - accuracy: 0.9999\n",
      "Epoch 17/30\n",
      "1875/1875 [==============================] - 3s 2ms/step - loss: 0.0062 - accuracy: 0.9984\n",
      "Epoch 18/30\n",
      "1875/1875 [==============================] - 3s 1ms/step - loss: 0.0016 - accuracy: 0.9995\n",
      "Epoch 19/30\n",
      "1875/1875 [==============================] - 3s 1ms/step - loss: 0.0034 - accuracy: 0.9990\n",
      "Epoch 20/30\n",
      "1875/1875 [==============================] - 2s 1ms/step - loss: 0.0026 - accuracy: 0.9993\n",
      "Epoch 21/30\n",
      "1875/1875 [==============================] - 3s 2ms/step - loss: 0.0022 - accuracy: 0.9992\n",
      "Epoch 22/30\n",
      "1875/1875 [==============================] - 3s 1ms/step - loss: 0.0022 - accuracy: 0.9992\n",
      "Epoch 23/30\n",
      "1875/1875 [==============================] - 3s 2ms/step - loss: 0.0020 - accuracy: 0.9992\n",
      "Epoch 24/30\n",
      "1875/1875 [==============================] - 3s 1ms/step - loss: 0.0025 - accuracy: 0.9991\n",
      "Epoch 25/30\n",
      "1875/1875 [==============================] - 3s 1ms/step - loss: 0.0032 - accuracy: 0.9991\n",
      "Epoch 26/30\n",
      "1875/1875 [==============================] - 3s 1ms/step - loss: 0.0037 - accuracy: 0.9988\n",
      "Epoch 27/30\n",
      "1875/1875 [==============================] - 3s 2ms/step - loss: 0.0025 - accuracy: 0.9991\n",
      "Epoch 28/30\n",
      "1875/1875 [==============================] - 3s 1ms/step - loss: 0.0019 - accuracy: 0.9993\n",
      "Epoch 29/30\n",
      "1875/1875 [==============================] - 3s 2ms/step - loss: 9.7468e-04 - accuracy: 0.9996\n",
      "Epoch 30/30\n",
      "1875/1875 [==============================] - 3s 1ms/step - loss: 0.0028 - accuracy: 0.9991\n"
     ]
    },
    {
     "data": {
      "text/plain": [
       "<keras.callbacks.History at 0x203ae7da0e0>"
      ]
     },
     "execution_count": 14,
     "metadata": {},
     "output_type": "execute_result"
    }
   ],
   "source": [
    "model.fit(train_images, train_labels, epochs=30)"
   ]
  },
  {
   "cell_type": "code",
   "execution_count": 15,
   "id": "fe4c4f46",
   "metadata": {},
   "outputs": [
    {
     "name": "stdout",
     "output_type": "stream",
     "text": [
      "313/313 [==============================] - 0s 804us/step - loss: 0.1964 - accuracy: 0.9793\n",
      "Test accuracy: 0.9793000221252441\n"
     ]
    }
   ],
   "source": [
    "test_loss, test_accuracy = model.evaluate(test_images, test_labels)\n",
    "print(f'Test accuracy: {test_accuracy}')"
   ]
  },
  {
   "cell_type": "code",
   "execution_count": 16,
   "id": "33a52f4a",
   "metadata": {},
   "outputs": [
    {
     "name": "stdout",
     "output_type": "stream",
     "text": [
      "313/313 [==============================] - 0s 719us/step\n"
     ]
    }
   ],
   "source": [
    "predictions = model.predict(test_images)"
   ]
  },
  {
   "cell_type": "code",
   "execution_count": null,
   "id": "76080449",
   "metadata": {},
   "outputs": [],
   "source": []
  }
 ],
 "metadata": {
  "kernelspec": {
   "display_name": "Python 3 (ipykernel)",
   "language": "python",
   "name": "python3"
  },
  "language_info": {
   "codemirror_mode": {
    "name": "ipython",
    "version": 3
   },
   "file_extension": ".py",
   "mimetype": "text/x-python",
   "name": "python",
   "nbconvert_exporter": "python",
   "pygments_lexer": "ipython3",
   "version": "3.10.9"
  }
 },
 "nbformat": 4,
 "nbformat_minor": 5
}
